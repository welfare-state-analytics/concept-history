{
 "metadata": {
  "language_info": {
   "codemirror_mode": {
    "name": "ipython",
    "version": 3
   },
   "file_extension": ".py",
   "mimetype": "text/x-python",
   "name": "python",
   "nbconvert_exporter": "python",
   "pygments_lexer": "ipython3",
   "version": "3.8.6-final"
  },
  "orig_nbformat": 2,
  "kernelspec": {
   "name": "python386jvsc74a57bd0aee8b7b246df8f9039afb4144a1f6fd8d2ca17a180786b69acc140d282b71a49",
   "display_name": "Python 3.8.6 64-bit"
  },
  "metadata": {
   "interpreter": {
    "hash": "aee8b7b246df8f9039afb4144a1f6fd8d2ca17a180786b69acc140d282b71a49"
   }
  }
 },
 "nbformat": 4,
 "nbformat_minor": 2,
 "cells": [
  {
   "cell_type": "code",
   "execution_count": null,
   "metadata": {},
   "outputs": [],
   "source": [
    "import pandas as pd\n",
    "\n",
    "freqs = pd.read_csv(\"freqs.csv\")\n"
   ]
  },
  {
   "cell_type": "code",
   "execution_count": 37,
   "metadata": {},
   "outputs": [
    {
     "output_type": "stream",
     "name": "stdout",
     "text": [
      "              researcher  1920  1921  1922  1923  1924  1925  1926  1927  \\\nword                                                                       \ninvandring        miriam     1     2     0     0     1     0     1    31   \ninvandringen      miriam     2     0     0     0     0     1     3    17   \ninvandringens     miriam     0     0     0     0     0     0     0     0   \n-invandring       miriam     0     0     0     0     0     0     0     0   \ninvandrings-      miriam     0     0     0     0     0     0     0     0   \n...                  ...   ...   ...   ...   ...   ...   ...   ...   ...   \nupplysningens    fredrik     2     6     5     3     2     2     1     2   \npropaganda       fredrik     8    31    25    51    21    25    71    68   \npropagandas      fredrik     0     0     0     0     0     0     9     0   \npropagandan      fredrik     5     3     7    10     7     2    32    10   \npropagandans     fredrik     0     0     0     0     0     0     5     1   \n\n               1928  ...  201112  201213  201314  201415  201516  201617  \\\nword                 ...                                                   \ninvandring        7  ...     118      80     112      60      75      73   \ninvandringen      3  ...     115      75      83      78      53      33   \ninvandringens     0  ...      19       7       2       2       4       1   \n-invandring       0  ...       0       0       0       0       0       0   \ninvandrings-      0  ...       7      10       4       8       3       5   \n...             ...  ...     ...     ...     ...     ...     ...     ...   \nupplysningens    12  ...       0       1       1       0       1       0   \npropaganda       29  ...       9       3      14      19      29      19   \npropagandas       0  ...       0       0       0       0       0       0   \npropagandan       5  ...       0       2       5       5       3       6   \npropagandans      1  ...       1       0       0       0       0       0   \n\n               201718  201819  201920  202021  \nword                                           \ninvandring         47      34      63      25  \ninvandringen       31      31      45      13  \ninvandringens      10       4       1       1  \n-invandring         0       0       0       0  \ninvandrings-        1       6       1       0  \n...               ...     ...     ...     ...  \nupplysningens       0       0       0       0  \npropaganda         23      19      19       2  \npropagandas         0       0       0       0  \npropagandan         3       1       1       0  \npropagandans        0       0       0       0  \n\n[66 rows x 104 columns]\n"
     ]
    }
   ],
   "source": [
    "print(freqs)"
   ]
  },
  {
   "cell_type": "code",
   "execution_count": 39,
   "metadata": {},
   "outputs": [
    {
     "output_type": "execute_result",
     "data": {
      "text/plain": [
       "word   invandring invandringen invandringens -invandring invandrings-  \\\n",
       "201617         73           33             1           0            5   \n",
       "201718         47           31            10           0            1   \n",
       "201819         34           31             4           0            6   \n",
       "201920         63           45             1           0            1   \n",
       "202021         25           13             1           0            0   \n",
       "\n",
       "word   migration migrationen migrationens immigration immigrationen  ...  \\\n",
       "201617        83          21            2           1             0  ...   \n",
       "201718        96          43            6           2             0  ...   \n",
       "201819        78          26            3           2             0  ...   \n",
       "201920        62          14            2           0             1  ...   \n",
       "202021        10           5            0           0             0  ...   \n",
       "\n",
       "word   upplysningarna upplysningarnas upplysning upplysnings upplysningen  \\\n",
       "201617              0               0          9           0            2   \n",
       "201718              0               0          9           0            0   \n",
       "201819              0               0          6           0            1   \n",
       "201920              0               0          6           0            1   \n",
       "202021              0               0          2           0            1   \n",
       "\n",
       "word   upplysningens propaganda propagandas propagandan propagandans  \n",
       "201617             0         19           0           6            0  \n",
       "201718             0         23           0           3            0  \n",
       "201819             0         19           0           1            0  \n",
       "201920             0         19           0           1            0  \n",
       "202021             0          2           0           0            0  \n",
       "\n",
       "[5 rows x 66 columns]"
      ],
      "text/html": "<div>\n<style scoped>\n    .dataframe tbody tr th:only-of-type {\n        vertical-align: middle;\n    }\n\n    .dataframe tbody tr th {\n        vertical-align: top;\n    }\n\n    .dataframe thead th {\n        text-align: right;\n    }\n</style>\n<table border=\"1\" class=\"dataframe\">\n  <thead>\n    <tr style=\"text-align: right;\">\n      <th>word</th>\n      <th>invandring</th>\n      <th>invandringen</th>\n      <th>invandringens</th>\n      <th>-invandring</th>\n      <th>invandrings-</th>\n      <th>migration</th>\n      <th>migrationen</th>\n      <th>migrationens</th>\n      <th>immigration</th>\n      <th>immigrationen</th>\n      <th>...</th>\n      <th>upplysningarna</th>\n      <th>upplysningarnas</th>\n      <th>upplysning</th>\n      <th>upplysnings</th>\n      <th>upplysningen</th>\n      <th>upplysningens</th>\n      <th>propaganda</th>\n      <th>propagandas</th>\n      <th>propagandan</th>\n      <th>propagandans</th>\n    </tr>\n  </thead>\n  <tbody>\n    <tr>\n      <th>201617</th>\n      <td>73</td>\n      <td>33</td>\n      <td>1</td>\n      <td>0</td>\n      <td>5</td>\n      <td>83</td>\n      <td>21</td>\n      <td>2</td>\n      <td>1</td>\n      <td>0</td>\n      <td>...</td>\n      <td>0</td>\n      <td>0</td>\n      <td>9</td>\n      <td>0</td>\n      <td>2</td>\n      <td>0</td>\n      <td>19</td>\n      <td>0</td>\n      <td>6</td>\n      <td>0</td>\n    </tr>\n    <tr>\n      <th>201718</th>\n      <td>47</td>\n      <td>31</td>\n      <td>10</td>\n      <td>0</td>\n      <td>1</td>\n      <td>96</td>\n      <td>43</td>\n      <td>6</td>\n      <td>2</td>\n      <td>0</td>\n      <td>...</td>\n      <td>0</td>\n      <td>0</td>\n      <td>9</td>\n      <td>0</td>\n      <td>0</td>\n      <td>0</td>\n      <td>23</td>\n      <td>0</td>\n      <td>3</td>\n      <td>0</td>\n    </tr>\n    <tr>\n      <th>201819</th>\n      <td>34</td>\n      <td>31</td>\n      <td>4</td>\n      <td>0</td>\n      <td>6</td>\n      <td>78</td>\n      <td>26</td>\n      <td>3</td>\n      <td>2</td>\n      <td>0</td>\n      <td>...</td>\n      <td>0</td>\n      <td>0</td>\n      <td>6</td>\n      <td>0</td>\n      <td>1</td>\n      <td>0</td>\n      <td>19</td>\n      <td>0</td>\n      <td>1</td>\n      <td>0</td>\n    </tr>\n    <tr>\n      <th>201920</th>\n      <td>63</td>\n      <td>45</td>\n      <td>1</td>\n      <td>0</td>\n      <td>1</td>\n      <td>62</td>\n      <td>14</td>\n      <td>2</td>\n      <td>0</td>\n      <td>1</td>\n      <td>...</td>\n      <td>0</td>\n      <td>0</td>\n      <td>6</td>\n      <td>0</td>\n      <td>1</td>\n      <td>0</td>\n      <td>19</td>\n      <td>0</td>\n      <td>1</td>\n      <td>0</td>\n    </tr>\n    <tr>\n      <th>202021</th>\n      <td>25</td>\n      <td>13</td>\n      <td>1</td>\n      <td>0</td>\n      <td>0</td>\n      <td>10</td>\n      <td>5</td>\n      <td>0</td>\n      <td>0</td>\n      <td>0</td>\n      <td>...</td>\n      <td>0</td>\n      <td>0</td>\n      <td>2</td>\n      <td>0</td>\n      <td>1</td>\n      <td>0</td>\n      <td>2</td>\n      <td>0</td>\n      <td>0</td>\n      <td>0</td>\n    </tr>\n  </tbody>\n</table>\n<p>5 rows × 66 columns</p>\n</div>"
     },
     "metadata": {},
     "execution_count": 39
    }
   ],
   "source": [
    "freqs_t = freqs.transpose()\n",
    "freqs_t.tail()"
   ]
  },
  {
   "cell_type": "code",
   "execution_count": null,
   "metadata": {},
   "outputs": [],
   "source": [
    "import seaborn as sns\n",
    "from matplotlib import pyplot as plt\n",
    "\n"
   ]
  }
 ]
}